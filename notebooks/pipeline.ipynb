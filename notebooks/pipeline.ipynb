{
 "cells": [
  {
   "cell_type": "markdown",
   "metadata": {},
   "source": [
    "# maPCA walkthrough\n",
    "\n"
   ]
  },
  {
   "cell_type": "markdown",
   "metadata": {},
   "source": [
    "## Import libraries"
   ]
  },
  {
   "cell_type": "code",
   "execution_count": 99,
   "metadata": {
    "execution": {
     "iopub.execute_input": "2022-01-25T15:53:51.147898Z",
     "iopub.status.busy": "2022-01-25T15:53:51.147398Z",
     "iopub.status.idle": "2022-01-25T15:53:51.168751Z",
     "shell.execute_reply": "2022-01-25T15:53:51.163109Z",
     "shell.execute_reply.started": "2022-01-25T15:53:51.147833Z"
    }
   },
   "outputs": [],
   "source": [
    "from mapca import mapca, utils\n",
    "import numpy as np\n",
    "from nilearn import datasets, input_data, masking, image, plotting\n",
    "import matplotlib.pyplot as plt\n",
    "from nilearn.plotting import plot_roi, plot_epi, show\n",
    "import nibabel as nib\n",
    "from nilearn._utils import check_niimg_3d, check_niimg_4d\n",
    "from scipy.stats import kurtosis\n",
    "from sklearn.decomposition import PCA\n",
    "from sklearn.preprocessing import StandardScaler"
   ]
  },
  {
   "cell_type": "markdown",
   "metadata": {},
   "source": [
    "## Load 4D data, reshape into space x time and normalize"
   ]
  },
  {
   "cell_type": "code",
   "execution_count": 104,
   "metadata": {
    "execution": {
     "iopub.execute_input": "2022-01-25T15:55:33.607242Z",
     "iopub.status.busy": "2022-01-25T15:55:33.606137Z",
     "iopub.status.idle": "2022-01-25T15:55:35.554404Z",
     "shell.execute_reply": "2022-01-25T15:55:35.553469Z",
     "shell.execute_reply.started": "2022-01-25T15:55:33.607193Z"
    }
   },
   "outputs": [],
   "source": [
    "# Download data\n",
    "dataset = datasets.fetch_development_fmri(n_subjects=1)\n",
    "\n",
    "# Generate masker\n",
    "brain_masker = input_data.NiftiMasker(\n",
    "    detrend=True, mask_strategy='epi',\n",
    "    low_pass=0.1, high_pass=0.01, t_r=2,\n",
    "    memory='nilearn_cache', memory_level=1, verbose=0)\n",
    "\n",
    "# Get 4D data\n",
    "img = check_niimg_4d(dataset.func[0])\n",
    "mask = check_niimg_3d(brain_masker.fit(dataset.func[0]).mask_img_)\n",
    "data = img.get_fdata()\n",
    "mask = mask.get_fdata()\n",
    "\n",
    "# Get shape and reshape\n",
    "[n_x, n_y, n_z, n_timepoints] = data.shape\n",
    "data_nib_V = np.reshape(data, (n_x * n_y * n_z, n_timepoints), order=\"F\")\n",
    "mask_vec = np.reshape(mask, n_x * n_y * n_z, order=\"F\")\n",
    "X = data_nib_V[mask_vec == 1, :]\n",
    "\n",
    "n_samples = np.sum(mask_vec)\n",
    "\n",
    "# Normalize time-series\n",
    "scaler = StandardScaler(with_mean=True, with_std=True)\n",
    "X = scaler.fit_transform(X.T).T"
   ]
  },
  {
   "cell_type": "markdown",
   "metadata": {
    "execution": {
     "iopub.execute_input": "2022-01-25T15:05:42.185314Z",
     "iopub.status.busy": "2022-01-25T15:05:42.184711Z",
     "iopub.status.idle": "2022-01-25T15:05:42.236272Z",
     "shell.execute_reply": "2022-01-25T15:05:42.213135Z",
     "shell.execute_reply.started": "2022-01-25T15:05:42.185260Z"
    }
   },
   "source": [
    "## Step 1: Perform SVD on original data"
   ]
  },
  {
   "cell_type": "code",
   "execution_count": 41,
   "metadata": {
    "execution": {
     "iopub.execute_input": "2022-01-25T15:08:14.604696Z",
     "iopub.status.busy": "2022-01-25T15:08:14.604202Z",
     "iopub.status.idle": "2022-01-25T15:08:16.070047Z",
     "shell.execute_reply": "2022-01-25T15:08:16.048190Z",
     "shell.execute_reply.started": "2022-01-25T15:08:14.604639Z"
    }
   },
   "outputs": [],
   "source": [
    "# V = eigenvectors\n",
    "V, eigenvalues = utils._icatb_svd(X, n_timepoints)\n",
    "\n",
    "# Reordering of values from highest to lowest\n",
    "eigenvalues = eigenvalues[::-1]\n",
    "dataN = np.dot(X, V[:, ::-1])"
   ]
  },
  {
   "cell_type": "markdown",
   "metadata": {},
   "source": [
    "## Step 2: Apply kurtosis threshold of Gaussianity to SVD data to get first estimate of subsampling depth"
   ]
  },
  {
   "cell_type": "code",
   "execution_count": 43,
   "metadata": {
    "execution": {
     "iopub.execute_input": "2022-01-25T15:12:24.621362Z",
     "iopub.status.busy": "2022-01-25T15:12:24.620713Z",
     "iopub.status.idle": "2022-01-25T15:12:24.647967Z",
     "shell.execute_reply": "2022-01-25T15:12:24.646372Z",
     "shell.execute_reply.started": "2022-01-25T15:12:24.621289Z"
    }
   },
   "outputs": [],
   "source": [
    "def apply_kurtosis(dataN, eigenvalues):\n",
    "    # Using 12 gaussian components from middle, top and bottom gaussian\n",
    "    # components to determine the subsampling depth.\n",
    "    # Final subsampling depth is determined using median\n",
    "    kurt = kurtosis(dataN, axis=0, fisher=True)\n",
    "    kurt[kurt < 0] = 0\n",
    "    kurt = np.expand_dims(kurt, 1)\n",
    "\n",
    "    kurt[eigenvalues > np.mean(eigenvalues)] = 1000\n",
    "    idx_gauss = np.where(\n",
    "        ((kurt[:, 0] < 0.3) & (kurt[:, 0] > 0) & (eigenvalues > np.finfo(float).eps)) == 1\n",
    "    )[\n",
    "        0\n",
    "    ]\n",
    "    idx = np.array(idx_gauss[:]).T\n",
    "    dfs = np.sum(eigenvalues > np.finfo(float).eps)  # degrees of freedom\n",
    "    minTp = 12\n",
    "\n",
    "    if len(idx) >= minTp:\n",
    "        middle = int(np.round(len(idx) / 2))\n",
    "        idx = np.hstack([idx[0:4], idx[middle - 1 : middle + 3], idx[-4:]])\n",
    "    else:\n",
    "        minTp = np.min([minTp, dfs])\n",
    "        idx = np.arange(dfs - minTp, dfs)\n",
    "\n",
    "    idx = np.unique(idx)\n",
    "    \n",
    "    return idx"
   ]
  },
  {
   "cell_type": "code",
   "execution_count": 44,
   "metadata": {
    "execution": {
     "iopub.execute_input": "2022-01-25T15:12:37.071679Z",
     "iopub.status.busy": "2022-01-25T15:12:37.071243Z",
     "iopub.status.idle": "2022-01-25T15:12:37.227203Z",
     "shell.execute_reply": "2022-01-25T15:12:37.224985Z",
     "shell.execute_reply.started": "2022-01-25T15:12:37.071627Z"
    }
   },
   "outputs": [],
   "source": [
    "idx = apply_kurtosis(dataN, eigenvalues)"
   ]
  },
  {
   "cell_type": "markdown",
   "metadata": {},
   "source": [
    "## Step 3: Calculate the subsampling depth by increasing its value until the entropy rate of the subsampled sequence reaches the upper bound"
   ]
  },
  {
   "cell_type": "code",
   "execution_count": 53,
   "metadata": {
    "execution": {
     "iopub.execute_input": "2022-01-25T15:24:38.960093Z",
     "iopub.status.busy": "2022-01-25T15:24:38.959800Z",
     "iopub.status.idle": "2022-01-25T15:24:38.972372Z",
     "shell.execute_reply": "2022-01-25T15:24:38.970012Z",
     "shell.execute_reply.started": "2022-01-25T15:24:38.960065Z"
    }
   },
   "outputs": [],
   "source": [
    "def estimate_subsampling_depth(dataN, mask_ND):\n",
    "    # Estimate the subsampling depth for effectively i.i.d. samples\n",
    "    sub_depth = len(idx)\n",
    "    sub_iid_sp = np.zeros((sub_depth,))\n",
    "    for i in range(sub_depth):\n",
    "        x_single = np.zeros(n_x * n_y * n_z)\n",
    "        x_single[mask_vec == 1] = dataN[:, idx[i]]\n",
    "        x_single = np.reshape(x_single, (n_x, n_y, n_z), order=\"F\")\n",
    "        sub_iid_sp[i] = utils._est_indp_sp(x_single)[0] + 1\n",
    "        if i > 6:\n",
    "            tmp_sub_sp = sub_iid_sp[0:i]\n",
    "            tmp_sub_median = np.round(np.median(tmp_sub_sp))\n",
    "            if np.sum(tmp_sub_sp == tmp_sub_median) > 6:\n",
    "                sub_iid_sp = tmp_sub_sp\n",
    "                break\n",
    "        dim_n = x_single.ndim\n",
    "\n",
    "    sub_iid_sp_median = int(np.round(np.median(sub_iid_sp)))\n",
    "    if np.floor(np.power(n_samples / n_timepoints, 1 / dim_n)) < sub_iid_sp_median:\n",
    "        sub_iid_sp_median = int(np.floor(np.power(n_samples / n_timepoints, 1 / dim_n)))\n",
    "        \n",
    "    N = np.round(n_samples / np.power(sub_iid_sp_median, dim_n))\n",
    "        \n",
    "    return sub_iid_sp_median, N"
   ]
  },
  {
   "cell_type": "code",
   "execution_count": 54,
   "metadata": {
    "execution": {
     "iopub.execute_input": "2022-01-25T15:24:39.519332Z",
     "iopub.status.busy": "2022-01-25T15:24:39.518694Z",
     "iopub.status.idle": "2022-01-25T15:24:42.161757Z",
     "shell.execute_reply": "2022-01-25T15:24:42.160013Z",
     "shell.execute_reply.started": "2022-01-25T15:24:39.519278Z"
    }
   },
   "outputs": [
    {
     "name": "stdout",
     "output_type": "stream",
     "text": [
      "Effective number of i.i.d. samples 3032\n"
     ]
    }
   ],
   "source": [
    "mask_ND = np.reshape(mask_vec, (n_x, n_y, n_z), order=\"F\")\n",
    "sub_iid_sp_median, N = estimate_subsampling_depth(dataN, mask_ND )\n",
    "\n",
    "print(\"Effective number of i.i.d. samples %d\" % N)"
   ]
  },
  {
   "cell_type": "markdown",
   "metadata": {},
   "source": [
    "## Step 4: Generate subsampled data"
   ]
  },
  {
   "cell_type": "code",
   "execution_count": 57,
   "metadata": {
    "execution": {
     "iopub.execute_input": "2022-01-25T15:25:30.255454Z",
     "iopub.status.busy": "2022-01-25T15:25:30.254886Z",
     "iopub.status.idle": "2022-01-25T15:25:30.273395Z",
     "shell.execute_reply": "2022-01-25T15:25:30.269014Z",
     "shell.execute_reply.started": "2022-01-25T15:25:30.255380Z"
    }
   },
   "outputs": [],
   "source": [
    "def generate_subsampled_data(mask_ND, sub_iid_sp_median, n_timepoints, mask_shape):\n",
    "    n_x, n_y, n_z = mask_shape\n",
    "    mask_s = utils._subsampling(mask_ND, sub_iid_sp_median)\n",
    "    mask_s_1d = np.reshape(mask_s, np.prod(mask_s.shape), order=\"F\")\n",
    "    dat = np.zeros((int(np.sum(mask_s_1d)), n_timepoints))\n",
    "    for i_vol in range(n_timepoints):\n",
    "        x_single = np.zeros(n_x * n_y * n_z)\n",
    "        x_single[mask_vec == 1] = X[:, i_vol]\n",
    "        x_single = np.reshape(x_single, (n_x, n_y, n_z), order=\"F\")\n",
    "        dat0 = utils._subsampling(x_single, sub_iid_sp_median)\n",
    "        dat0 = np.reshape(dat0, np.prod(dat0.shape), order=\"F\")\n",
    "        dat[:, i_vol] = dat0[mask_s_1d == 1]\n",
    "        \n",
    "    return dat"
   ]
  },
  {
   "cell_type": "code",
   "execution_count": 58,
   "metadata": {
    "execution": {
     "iopub.execute_input": "2022-01-25T15:25:30.971632Z",
     "iopub.status.busy": "2022-01-25T15:25:30.971184Z",
     "iopub.status.idle": "2022-01-25T15:25:31.294542Z",
     "shell.execute_reply": "2022-01-25T15:25:31.293798Z",
     "shell.execute_reply.started": "2022-01-25T15:25:30.971585Z"
    }
   },
   "outputs": [],
   "source": [
    "dat = generate_subsampled_data(mask_ND, sub_iid_sp_median, n_timepoints, (n_x, n_y, n_z))"
   ]
  },
  {
   "cell_type": "markdown",
   "metadata": {},
   "source": [
    "## Step 5: Calculate SVD of covariance matrix of subsampled data"
   ]
  },
  {
   "cell_type": "code",
   "execution_count": 60,
   "metadata": {
    "execution": {
     "iopub.execute_input": "2022-01-25T15:27:01.965930Z",
     "iopub.status.busy": "2022-01-25T15:27:01.965556Z",
     "iopub.status.idle": "2022-01-25T15:27:02.641985Z",
     "shell.execute_reply": "2022-01-25T15:27:02.640663Z",
     "shell.execute_reply.started": "2022-01-25T15:27:01.965887Z"
    }
   },
   "outputs": [],
   "source": [
    "# Perform Variance Normalization\n",
    "temp_scaler = StandardScaler(with_mean=True, with_std=True)\n",
    "dat = temp_scaler.fit_transform(dat.T).T\n",
    "\n",
    "V, eigenvalues = utils._icatb_svd(dat, n_timepoints)\n",
    "eigenvalues = eigenvalues[::-1]"
   ]
  },
  {
   "cell_type": "markdown",
   "metadata": {},
   "source": [
    "## Step 6: Make eigenspectrum adjustment"
   ]
  },
  {
   "cell_type": "code",
   "execution_count": 61,
   "metadata": {
    "execution": {
     "iopub.execute_input": "2022-01-25T15:27:42.446795Z",
     "iopub.status.busy": "2022-01-25T15:27:42.446281Z",
     "iopub.status.idle": "2022-01-25T15:27:42.516496Z",
     "shell.execute_reply": "2022-01-25T15:27:42.514602Z",
     "shell.execute_reply.started": "2022-01-25T15:27:42.446741Z"
    }
   },
   "outputs": [],
   "source": [
    "# Make eigen spectrum adjustment\n",
    "eigenvalues = utils._eigensp_adj(eigenvalues, N, eigenvalues.shape[0])\n",
    "# (completed)\n",
    "if np.sum(np.imag(eigenvalues)):\n",
    "    raise ValueError(\"Invalid eigenvalue found for the subsampled data.\")\n",
    "\n",
    "# Correction on the ill-conditioned results (when tdim is large,\n",
    "# some least significant eigenvalues become small negative numbers)\n",
    "if eigenvalues[np.real(eigenvalues) <= np.finfo(float).eps].shape[0] > 0:\n",
    "    eigenvalues[np.real(eigenvalues) <= np.finfo(float).eps] = np.min(\n",
    "        eigenvalues[np.real(eigenvalues) >= np.finfo(float).eps]\n",
    "    )"
   ]
  },
  {
   "cell_type": "markdown",
   "metadata": {},
   "source": [
    "## Step 7: Estimate dimensionality with AIC, KIC and MDL"
   ]
  },
  {
   "cell_type": "code",
   "execution_count": 81,
   "metadata": {
    "execution": {
     "iopub.execute_input": "2022-01-25T15:41:21.924817Z",
     "iopub.status.busy": "2022-01-25T15:41:21.924354Z",
     "iopub.status.idle": "2022-01-25T15:41:21.942970Z",
     "shell.execute_reply": "2022-01-25T15:41:21.940437Z",
     "shell.execute_reply.started": "2022-01-25T15:41:21.924765Z"
    }
   },
   "outputs": [],
   "source": [
    "def estimate_dimensionality(n_timepoints, eigenvalues, N):\n",
    "    p = n_timepoints\n",
    "    aic = np.zeros(p - 1)\n",
    "    kic = np.zeros(p - 1)\n",
    "    mdl = np.zeros(p - 1)\n",
    "\n",
    "    for k_idx, k in enumerate(np.arange(1, p)):\n",
    "        LH = np.log(np.prod(np.power(eigenvalues[k:], 1 / (p - k))) / np.mean(eigenvalues[k:]))\n",
    "        mlh = 0.5 * N * (p - k) * LH\n",
    "        df = 1 + 0.5 * k * (2 * p - k + 1)\n",
    "        aic[k_idx] = (-2 * mlh) + (2 * df)\n",
    "        kic[k_idx] = (-2 * mlh) + (3 * df)\n",
    "        mdl[k_idx] = -mlh + (0.5 * df * np.log(N))\n",
    "\n",
    "    itc = np.row_stack([aic, kic, mdl])\n",
    "\n",
    "    # AIC\n",
    "    criteria_idx = 0\n",
    "    dlap = np.diff(itc[criteria_idx, :])\n",
    "    a = np.where(dlap > 0)[0] + 1  # Plus 1 to\n",
    "    if a.size == 0:\n",
    "        n_aic = itc[criteria_idx, :].shape[0]\n",
    "    else:\n",
    "        n_aic = a[0]\n",
    "\n",
    "    # KIC\n",
    "    criteria_idx = 1\n",
    "    dlap = np.diff(itc[criteria_idx, :])\n",
    "    a = np.where(dlap > 0)[0] + 1  # Plus 1 to\n",
    "    if a.size == 0:\n",
    "        n_kic = itc[criteria_idx, :].shape[0]\n",
    "    else:\n",
    "        n_kic = a[0]\n",
    "        \n",
    "    # MDL\n",
    "    criteria_idx = 2\n",
    "    dlap = np.diff(itc[criteria_idx, :])\n",
    "    a = np.where(dlap > 0)[0] + 1  # Plus 1 to\n",
    "    if a.size == 0:\n",
    "        n_mdl = itc[criteria_idx, :].shape[0]\n",
    "    else:\n",
    "        n_mdl = a[0]\n",
    "    \n",
    "\n",
    "    return np.array([aic, kic, mdl]), np.array([n_aic, n_kic, n_mdl])"
   ]
  },
  {
   "cell_type": "code",
   "execution_count": 91,
   "metadata": {
    "execution": {
     "iopub.execute_input": "2022-01-25T15:47:07.481070Z",
     "iopub.status.busy": "2022-01-25T15:47:07.472318Z",
     "iopub.status.idle": "2022-01-25T15:47:08.096438Z",
     "shell.execute_reply": "2022-01-25T15:47:08.094187Z",
     "shell.execute_reply.started": "2022-01-25T15:47:07.480073Z"
    }
   },
   "outputs": [
    {
     "data": {
      "text/plain": [
       "Text(0, 0.5, 'A.U.')"
      ]
     },
     "execution_count": 91,
     "metadata": {},
     "output_type": "execute_result"
    },
    {
     "data": {
      "image/png": "[encoded data removed]",
      "text/plain": [
       "<Figure size 1440x720 with 1 Axes>"
      ]
     },
     "metadata": {
      "needs_background": "light"
     },
     "output_type": "display_data"
    }
   ],
   "source": [
    "crit, n_crit = estimate_dimensionality(n_timepoints, eigenvalues, N)\n",
    "\n",
    "plt.figure(figsize=(20,10))\n",
    "# Optimization curves\n",
    "plt.plot(crit[0, :], color=\"tab:blue\", label=\"AIC\")\n",
    "plt.plot(crit[1, :], color=\"tab:orange\", label=\"KIC\")\n",
    "plt.plot(crit[2, :], color=\"tab:green\", label=\"MDL\")\n",
    "\n",
    "# Selected components\n",
    "plt.vlines(n_crit[0], ymin=np.min(crit)*0.9, ymax=np.max(crit)*1.1, linestyles=\"dashed\", color=\"tab:blue\")\n",
    "plt.vlines(n_crit[1], ymin=np.min(crit)*0.9, ymax=np.max(crit)*1.1, linestyles=\"dashed\", color=\"tab:orange\")\n",
    "plt.vlines(n_crit[2], ymin=np.min(crit)*0.9, ymax=np.max(crit)*1.1, linestyles=\"dashed\", color=\"tab:green\")\n",
    "plt.legend()\n",
    "plt.xlabel(\"Number of components\")\n",
    "plt.ylabel(\"A.U.\")"
   ]
  },
  {
   "cell_type": "markdown",
   "metadata": {},
   "source": [
    "## Step 8: Reduce dimensionality with selected criteria using PCA"
   ]
  },
  {
   "cell_type": "code",
   "execution_count": 92,
   "metadata": {
    "execution": {
     "iopub.execute_input": "2022-01-25T15:50:50.063137Z",
     "iopub.status.busy": "2022-01-25T15:50:50.061999Z",
     "iopub.status.idle": "2022-01-25T15:50:50.077489Z",
     "shell.execute_reply": "2022-01-25T15:50:50.073407Z",
     "shell.execute_reply.started": "2022-01-25T15:50:50.063090Z"
    }
   },
   "outputs": [],
   "source": [
    "# Choose between \"aic\", \"kic\" and \"mdl\"\n",
    "criterion = \"aic\""
   ]
  },
  {
   "cell_type": "code",
   "execution_count": 105,
   "metadata": {
    "execution": {
     "iopub.execute_input": "2022-01-25T15:55:39.303740Z",
     "iopub.status.busy": "2022-01-25T15:55:39.303318Z",
     "iopub.status.idle": "2022-01-25T15:55:40.777614Z",
     "shell.execute_reply": "2022-01-25T15:55:40.773558Z",
     "shell.execute_reply.started": "2022-01-25T15:55:39.303689Z"
    }
   },
   "outputs": [
    {
     "name": "stdout",
     "output_type": "stream",
     "text": [
      "Performing PCA with 20 components\n",
      "Done!\n"
     ]
    }
   ],
   "source": [
    "if criterion == \"aic\":\n",
    "    n_components = n_crit[0]\n",
    "elif criterion == \"kic\":\n",
    "    n_components = n_crit[1]\n",
    "elif criterion == \"mdl\":\n",
    "    n_components = n_Crit[2]\n",
    "\n",
    "    \n",
    "print(f\"Performing PCA with {n_components} components\")\n",
    "ppca = PCA(n_components=n_components, svd_solver=\"full\", copy=False, whiten=False)\n",
    "ppca.fit(X)\n",
    "print(\"Done!\")\n",
    "\n",
    "# Assign attributes from model\n",
    "components = ppca.components_\n",
    "explained_variance = ppca.explained_variance_\n",
    "explained_variance_ratio = ppca.explained_variance_ratio_\n",
    "singular_values = ppca.singular_values_\n",
    "mean = ppca.mean_\n",
    "n_components = ppca.n_components_\n",
    "n_features = ppca.n_features_\n",
    "n_samples = ppca.n_samples_\n",
    "noise_variance = ppca.noise_variance_\n",
    "component_maps = np.dot(\n",
    "    np.dot(X, components.T), np.diag(1.0 / explained_variance)\n",
    ")\n",
    "component_maps_3d = np.zeros((n_x * n_y * n_z, n_components))\n",
    "component_maps_3d[mask_vec == 1, :] = component_maps\n",
    "component_maps_3d = np.reshape(component_maps_3d, (n_x, n_y, n_z, n_components), order=\"F\")\n",
    "component_maps_nib = nib.Nifti1Image(component_maps_3d, img.affine, img.header)"
   ]
  },
  {
   "cell_type": "markdown",
   "metadata": {},
   "source": [
    "## Done!"
   ]
  },
  {
   "cell_type": "code",
   "execution_count": null,
   "metadata": {},
   "outputs": [],
   "source": []
  }
 ],
 "metadata": {
  "interpreter": {
   "hash": "d29342407d95e4b47cb94a7b9fb12e391099b6ece886cdd75d82894e06929b72"
  },
  "kernelspec": {
   "display_name": "Python 3",
   "language": "python",
   "name": "python3"
  },
  "language_info": {
   "codemirror_mode": {
    "name": "ipython",
    "version": 3
   },
   "file_extension": ".py",
   "mimetype": "text/x-python",
   "name": "python",
   "nbconvert_exporter": "python",
   "pygments_lexer": "ipython3",
   "version": "3.8.3"
  }
 },
 "nbformat": 4,
 "nbformat_minor": 4
}
